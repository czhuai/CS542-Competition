{
 "cells": [
  {
   "cell_type": "code",
   "execution_count": 16,
   "metadata": {},
   "outputs": [],
   "source": [
    "import pandas as pd\n",
    "import json\n",
    "import os\n",
    "import pandas as pd\n",
    "import json\n",
    "\n",
    "def xlsx_to_json(file_path):\n",
    "    # Load the XLSX file into a Pandas DataFrame\n",
    "    df = pd.read_excel(file_path)\n",
    "\n",
    "    # get the second sheet of the XLSX file\n",
    "    df = pd.read_excel(file_path, sheet_name=1)\n",
    "\n",
    "    # Convert the DataFrame to a JSON object\n",
    "    json_obj = df.to_json(orient='records')\n",
    "\n",
    "    # Parse the JSON object and return it\n",
    "    return json.loads(json_obj)\n",
    "\n",
    "def csv_to_json(file_path):\n",
    "    # Load the XLSX file into a Pandas DataFrame\n",
    "    df = pd.read_csv(file_path)\n",
    "\n",
    "    # Convert the DataFrame to a JSON object\n",
    "    json_obj = df.to_json(orient='records')\n",
    "\n",
    "    # Parse the JSON object and return it\n",
    "    return json.loads(json_obj)\n"
   ]
  },
  {
   "cell_type": "code",
   "execution_count": 17,
   "metadata": {},
   "outputs": [],
   "source": [
    "json_file = csv_to_json('evaluation/autocast_test_set_w_answers.csv')\n",
    "# save to json file\n",
    "with open('evaluation/autocast_test_set_w_answers.json', 'w') as outfile:\n",
    "    json.dump(json_file, outfile)"
   ]
  },
  {
   "cell_type": "code",
   "execution_count": 18,
   "metadata": {},
   "outputs": [
    {
     "data": {
      "text/plain": [
       "1364"
      ]
     },
     "execution_count": 18,
     "metadata": {},
     "output_type": "execute_result"
    }
   ],
   "source": [
    "jf = json.load(open('evaluation/autocast_test_set_w_answers.json'))\n",
    "len(jf)"
   ]
  }
 ],
 "metadata": {
  "kernelspec": {
   "display_name": "cs542",
   "language": "python",
   "name": "python3"
  },
  "language_info": {
   "codemirror_mode": {
    "name": "ipython",
    "version": 3
   },
   "file_extension": ".py",
   "mimetype": "text/x-python",
   "name": "python",
   "nbconvert_exporter": "python",
   "pygments_lexer": "ipython3",
   "version": "3.10.10"
  },
  "orig_nbformat": 4
 },
 "nbformat": 4,
 "nbformat_minor": 2
}
