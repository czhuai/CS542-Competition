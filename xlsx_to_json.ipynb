{
 "cells": [
  {
   "cell_type": "code",
   "execution_count": 28,
   "metadata": {},
   "outputs": [],
   "source": [
    "import pandas as pd\n",
    "import json\n",
    "import os\n",
    "\n",
    "def xlsx_to_json(file_path):\n",
    "    # Load the XLSX file into a Pandas DataFrame\n",
    "    df = pd.read_excel(file_path)\n",
    "\n",
    "    # get the second sheet of the XLSX file\n",
    "    df = pd.read_excel(file_path, sheet_name=1)\n",
    "\n",
    "    # Convert the DataFrame to a JSON object\n",
    "    json_obj = df.to_json(orient='records')\n",
    "\n",
    "    # Parse the JSON object and return it\n",
    "    return json.loads(json_obj)\n",
    "\n",
    "def csv_to_json(file_path):\n",
    "    # Load the XLSX file into a Pandas DataFrame\n",
    "    df = pd.read_csv(file_path)\n",
    "\n",
    "    # Convert the DataFrame to a JSON object\n",
    "    json_obj = df.to_json(orient='records')\n",
    "\n",
    "    # Parse the JSON object and return it\n",
    "    return json.loads(json_obj)\n"
   ]
  },
  {
   "cell_type": "code",
   "execution_count": 29,
   "metadata": {},
   "outputs": [],
   "source": [
    "json_file = csv_to_json('evaluation/autocast_test_set_w_answers.csv')\n",
    "# save to json file\n",
    "with open('evaluation/autocast_test_set_w_answers.json', 'w') as outfile:\n",
    "    json.dump(json_file, outfile)"
   ]
  },
  {
   "cell_type": "code",
   "execution_count": 36,
   "metadata": {},
   "outputs": [
    {
     "name": "stdout",
     "output_type": "stream",
     "text": [
      "450\n",
      "1140\n"
     ]
    }
   ],
   "source": [
    "jf = json.load(open('data/train.json'))\n",
    "new_jf = []\n",
    "n_count = 0\n",
    "y_count = 0\n",
    "for example in jf:\n",
    "    if example['qtype'] == 't/f':\n",
    "        if example['answer'] == 'no':\n",
    "            n_count += 1\n",
    "        else:\n",
    "            y_count += 1\n",
    "\n",
    "print(n_count)\n",
    "print(y_count)\n",
    "\n",
    "yes_count = 0\n",
    "for example in jf:\n",
    "    if example['qtype'] == 't/f':\n",
    "        if example['answer'] == 'yes':\n",
    "            yes_count += 1\n",
    "            if(yes_count < n_count):\n",
    "                new_jf.append(example)\n",
    "        else:\n",
    "            new_jf.append(example)\n",
    "    else:\n",
    "        new_jf.append(example)\n",
    "\n",
    "with open('train.json', 'w') as outfile:\n",
    "    json.dump(new_jf, outfile)\n"
   ]
  },
  {
   "cell_type": "code",
   "execution_count": 37,
   "metadata": {},
   "outputs": [
    {
     "name": "stdout",
     "output_type": "stream",
     "text": [
      "1590\n",
      "0\n",
      "0\n"
     ]
    }
   ],
   "source": [
    "jf = json.load(open('data/train.json'))\n",
    "new_jf = []\n",
    "tf_count = 0\n",
    "mc_count = 0\n",
    "num_count = 0\n",
    "for example in jf:\n",
    "    if example['qtype'] == 't/f':\n",
    "        tf_count += 1\n",
    "    elif example['qtype'] == 'mc':\n",
    "        mc_count += 1\n",
    "    else:\n",
    "        num_count += 1\n",
    "\n",
    "print(tf_count)\n",
    "print(mc_count)\n",
    "print(num_count)"
   ]
  }
 ],
 "metadata": {
  "kernelspec": {
   "display_name": "cs542",
   "language": "python",
   "name": "python3"
  },
  "language_info": {
   "codemirror_mode": {
    "name": "ipython",
    "version": 3
   },
   "file_extension": ".py",
   "mimetype": "text/x-python",
   "name": "python",
   "nbconvert_exporter": "python",
   "pygments_lexer": "ipython3",
   "version": "3.10.10"
  },
  "orig_nbformat": 4
 },
 "nbformat": 4,
 "nbformat_minor": 2
}
